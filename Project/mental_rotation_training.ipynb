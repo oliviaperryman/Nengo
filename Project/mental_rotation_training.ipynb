{
 "cells": [
  {
   "cell_type": "markdown",
   "metadata": {},
   "source": [
    "# Training Ensemble on MNIST Dataset \n",
    "- On the function points branch of nengo\n",
    "- On the vision branch of nengo_extras"
   ]
  },
  {
   "cell_type": "code",
   "execution_count": 9,
   "metadata": {
    "collapsed": true
   },
   "outputs": [],
   "source": [
    "import matplotlib.pyplot as plt\n",
    "%matplotlib inline\n",
    "import nengo\n",
    "import numpy as np\n",
    "import scipy.ndimage\n",
    "import matplotlib.animation as animation\n",
    "from matplotlib import pylab\n",
    "from PIL import Image\n",
    "import nengo.spa as spa\n",
    "import cPickle\n",
    "\n",
    "from nengo_extras.data import load_mnist\n",
    "from nengo_extras.vision import Gabor, Mask"
   ]
  },
  {
   "cell_type": "markdown",
   "metadata": {},
   "source": [
    "Represent each number using a one-hot where the index of the one represents the digit value"
   ]
  },
  {
   "cell_type": "code",
   "execution_count": 2,
   "metadata": {
    "collapsed": true
   },
   "outputs": [],
   "source": [
    "#Encode categorical integer features using a one-hot aka one-of-K scheme.\n",
    "def one_hot(labels, c=None):\n",
    "    assert labels.ndim == 1\n",
    "    n = labels.shape[0]\n",
    "    c = len(np.unique(labels)) if c is None else c\n",
    "    y = np.zeros((n, c))\n",
    "    y[np.arange(n), labels] = 1\n",
    "    return y"
   ]
  },
  {
   "cell_type": "markdown",
   "metadata": {},
   "source": [
    "Load the MNIST training and testing images"
   ]
  },
  {
   "cell_type": "code",
   "execution_count": 3,
   "metadata": {
    "collapsed": true
   },
   "outputs": [],
   "source": [
    "# --- load the data\n",
    "img_rows, img_cols = 28, 28\n",
    "\n",
    "(X_train, y_train), (X_test, y_test) = load_mnist()\n",
    "\n",
    "X_train = 2 * X_train - 1  # normalize to -1 to 1\n",
    "X_test = 2 * X_test - 1  # normalize to -1 to 1\n",
    "\n",
    "train_targets = one_hot(y_train, 10)\n",
    "test_targets = one_hot(y_test, 10)"
   ]
  },
  {
   "cell_type": "markdown",
   "metadata": {},
   "source": [
    "## The Network\n",
    "- The network parameters must be the same here as when the weight matrices are used later on\n",
    "- The network is made up of an ensemble and two nodes\n",
    "  - The first connection ( to v) computes the weights from the activities of the images to the images themselves\n",
    "  - The second connection (to v2) computes the weights from the activities of the images to the labels"
   ]
  },
  {
   "cell_type": "code",
   "execution_count": 11,
   "metadata": {
    "collapsed": false
   },
   "outputs": [
    {
     "data": {
      "text/plain": [
       "<matplotlib.image.AxesImage at 0x1ea9e208>"
      ]
     },
     "execution_count": 11,
     "metadata": {},
     "output_type": "execute_result"
    },
    {
     "data": {
      "image/png": "[encoded data removed]",
      "text/plain": [
       "<matplotlib.figure.Figure at 0xc985b38>"
      ]
     },
     "metadata": {},
     "output_type": "display_data"
    }
   ],
   "source": [
    "rng = np.random.RandomState(9)\n",
    "\n",
    "# --- set up network parameters\n",
    "#Want to encode and decode the image\n",
    "n_vis = X_train.shape[1]\n",
    "n_out =  X_train.shape[1]\n",
    "#number of neurons/dimensions of semantic pointer\n",
    "n_hid = 1000 #Try with more neurons for more accuracy\n",
    "\n",
    "\n",
    "#Want the encoding/decoding done on the training images\n",
    "ens_params = dict(\n",
    "    eval_points=X_train,\n",
    "    neuron_type=nengo.LIF(), #Why not use LIF? originally used LIFRate()\n",
    "    intercepts=nengo.dists.Choice([-0.5]),\n",
    "    max_rates=nengo.dists.Choice([100]),\n",
    "    )\n",
    "\n",
    "\n",
    "#Least-squares solver with L2 regularization.\n",
    "solver = nengo.solvers.LstsqL2(reg=0.01)\n",
    "#solver = nengo.solvers.LstsqL2(reg=0.0001)\n",
    "solver2 = nengo.solvers.LstsqL2(reg=0.01)\n",
    "\n",
    "#network that generates the weight matrices between neuron activity and images and the labels\n",
    "with nengo.Network(seed=3) as model:\n",
    "    a = nengo.Ensemble(n_hid, n_vis, seed=3, **ens_params)\n",
    "    v = nengo.Node(size_in=n_out)\n",
    "    conn = nengo.Connection(\n",
    "        a, v, synapse=None,\n",
    "        eval_points=X_train, function=X_train,#want the same thing out (identity)\n",
    "        solver=solver)\n",
    "    \n",
    "    v2 = nengo.Node(size_in=train_targets.shape[1])\n",
    "    conn2 = nengo.Connection(\n",
    "        a, v2, synapse=None,\n",
    "        eval_points=X_train, function=train_targets, #Want to get the labels out\n",
    "        solver=solver2)\n",
    "    \n",
    "\n",
    "# linear filter used for edge detection as encoders, more plausible for human visual system\n",
    "encoders = Gabor().generate(n_hid, (11, 11), rng=rng)\n",
    "encoders = Mask((28, 28)).populate(encoders, rng=rng, flatten=True)\n",
    "#Set the ensembles encoders to this\n",
    "a.encoders = encoders\n",
    "\n",
    "#Check the encoders were correctly made\n",
    "plt.imshow(encoders[0].reshape(28, 28), vmin=encoders[0].min(), vmax=encoders[0].max(), cmap='gray')"
   ]
  },
  {
   "cell_type": "markdown",
   "metadata": {},
   "source": [
    "Functions for computing representation of the image at different levels of encoding/decoding"
   ]
  },
  {
   "cell_type": "code",
   "execution_count": 12,
   "metadata": {
    "collapsed": true
   },
   "outputs": [],
   "source": [
    "#Get the one hot labels for the images\n",
    "def get_outs(sim, images):\n",
    "    #The activity of the neurons when an image is given as input\n",
    "    _, acts = nengo.utils.ensemble.tuning_curves(a, sim, inputs=images)\n",
    "    #The activity multiplied by the weight matrix (calculated in the network) to give the one-hot labels\n",
    "    return np.dot(acts, sim.data[conn2].weights.T)\n",
    "\n",
    "#Check how many of the labels were produced correctly\n",
    "#def get_error(sim, images, labels):\n",
    "#    return np.argmax(get_outs(sim, images), axis=1) != labels\n",
    "\n",
    "#Get label of the images\n",
    "#def get_labels(sim,images):\n",
    "#    return np.argmax(get_outs(sim, images), axis=1)\n",
    "\n",
    "#Get the neuron activity of an image or group of images (this is the semantic pointer in this case)\n",
    "def get_activities(sim, images):\n",
    "    _, acts = nengo.utils.ensemble.tuning_curves(a, sim, inputs=images)\n",
    "    return acts\n",
    "\n",
    "#Get the representation of the image after it has gone through the encoders (Gabor filters) but before it is in the neurons\n",
    "#This must be computed to create the weight matrix for rotation from neuron activity to this step\n",
    "# This allows a recurrent connection to be made from the neurons to themselves later\n",
    "def get_encoder_outputs(sim,images):\n",
    "    #Pass the images through the encoders\n",
    "    outs = np.dot(images,sim.data[a].encoders.T) #before the neurons \n",
    "    return outs"
   ]
  },
  {
   "cell_type": "markdown",
   "metadata": {},
   "source": [
    "## Images\n",
    "Create lists of training and testing images\n",
    "- Original images at random orientations\n",
    "- Those images rotated a fixed amount more\n",
    "- Images not used for training, but later for testing"
   ]
  },
  {
   "cell_type": "code",
   "execution_count": 13,
   "metadata": {
    "collapsed": true
   },
   "outputs": [],
   "source": [
    "degrees = 6\n",
    "\n",
    "#Images to train, starting at random orientation\n",
    "orig_imgs = X_train[:100000].copy()\n",
    "for img in orig_imgs:\n",
    "    img[:] = scipy.ndimage.interpolation.rotate(np.reshape(img,(28,28)),\n",
    "                                                (np.random.randint(360)),reshape=False,mode=\"nearest\").ravel()\n",
    "\n",
    "#Images rotated a fixed amount from the original random orientation\n",
    "rotated_imgs =orig_imgs.copy()\n",
    "for img in rotated_imgs:\n",
    "    img[:] = scipy.ndimage.interpolation.rotate(np.reshape(img,(28,28)),degrees,reshape=False,mode=\"nearest\").ravel()\n",
    "\n",
    "    #^encoder outputs\n",
    "    \n",
    "#Images not used for training, but for testing (all at random orientations)\n",
    "test_imgs = X_test[:1000].copy()\n",
    "for img in test_imgs:\n",
    "    img[:] = scipy.ndimage.interpolation.rotate(np.reshape(img,(28,28)),\n",
    "                                                (np.random.randint(360)),reshape=False,mode=\"nearest\").ravel()\n"
   ]
  },
  {
   "cell_type": "code",
   "execution_count": 20,
   "metadata": {
    "collapsed": false
   },
   "outputs": [
    {
     "data": {
      "text/plain": [
       "<matplotlib.image.AxesImage at 0x1f476be0>"
      ]
     },
     "execution_count": 20,
     "metadata": {},
     "output_type": "execute_result"
    },
    {
     "data": {
      "image/png": "[encoded data removed]",
      "text/plain": [
       "<matplotlib.figure.Figure at 0x1f152a90>"
      ]
     },
     "metadata": {},
     "output_type": "display_data"
    }
   ],
   "source": [
    "#Check to make sure images were generated correctly\n",
    "plt.subplot(121)\n",
    "plt.imshow(np.reshape(orig_imgs[0],(28,28)), cmap='gray')\n",
    "plt.subplot(122)\n",
    "plt.imshow(np.reshape(rotated_imgs[0],(28,28)), cmap='gray')\n"
   ]
  },
  {
   "cell_type": "markdown",
   "metadata": {},
   "source": [
    "## Simulator\n",
    "- Calculate the neuron activities of each set of images\n",
    "- Calculate the labels of the original images\n",
    "- Calculate the rotated images after they have gone through the encoders, but before they are in neuron activity\n",
    "- Generate the weight matrices between \n",
    "  - original activities and rotated activities\n",
    "  - labels and image activities\n",
    "  - original activities and rotated images through the encoders"
   ]
  },
  {
   "cell_type": "code",
   "execution_count": 21,
   "metadata": {
    "collapsed": true
   },
   "outputs": [],
   "source": [
    "with nengo.Simulator(model) as sim:    \n",
    "    \n",
    "    #Neuron activities of different mnist images\n",
    "    #The semantic pointers\n",
    "    orig_acts = get_activities(sim,orig_imgs)\n",
    "    rotated_acts = get_activities(sim,rotated_imgs)\n",
    "    test_acts = get_activities(sim,test_imgs)\n",
    "    \n",
    "    X_test_acts = get_activities(sim,X_test)\n",
    "    labels_out = get_outs(sim,X_test)\n",
    "    \n",
    "    rotated_after_encoders = get_encoder_outputs(sim,rotated_imgs)\n",
    "    \n",
    "    #solvers for a learning rule\n",
    "    solver_tranform = nengo.solvers.LstsqL2(reg=1e-8)\n",
    "    solver_word = nengo.solvers.LstsqL2(reg=1e-8)\n",
    "    solver_rotate_encoder = nengo.solvers.LstsqL2(reg=1e-8)\n",
    "    \n",
    "    \n",
    "    #find weight matrix between neuron activity of the original image and the rotated image\n",
    "    #weights returns a tuple including information about learning process, just want the weight matrix\n",
    "    weights,_ = solver_tranform(orig_acts, rotated_acts)\n",
    "    \n",
    "    #find weight matrix between labels and neuron activity\n",
    "    label_weights,_ = solver_word(labels_out,X_test_acts)\n",
    "    \n",
    "    \n",
    "    rotated_after_encoder_weights,_ = solver_rotate_encoder(orig_acts,rotated_after_encoders)\n",
    "    \n",
    "    \n",
    "    "
   ]
  },
  {
   "cell_type": "markdown",
   "metadata": {},
   "source": [
    "# Saving weight matrices\n"
   ]
  },
  {
   "cell_type": "code",
   "execution_count": 2,
   "metadata": {
    "collapsed": true
   },
   "outputs": [],
   "source": [
    "filename = \"label_weights\" + str(n_hid) +\".p\"\n",
    "cPickle.dump(label_weights, open( filename, \"wb\" ) )\n",
    "\n",
    "filename = \"activity_to_img_weights\" + str(n_hid) +\".p\"\n",
    "cPickle.dump(sim.data[conn].weights.T, open( filename, \"wb\" ) )\n",
    "\n",
    "filename = \"rotation_weights\" + str(n_hid) +\".p\"\n",
    "cPickle.dump(weights, open( filename, \"wb\" ) )\n",
    "\n",
    "filename = \"rotated_after_encoder_weights\" + str(n_hid) +\".p\"\n",
    "cPickle.dump(rotated_after_encoder_weights, open( filename, \"wb\" ) )\n"
   ]
  }
 ],
 "metadata": {
  "kernelspec": {
   "display_name": "Python 2",
   "language": "python",
   "name": "python2"
  },
  "language_info": {
   "codemirror_mode": {
    "name": "ipython",
    "version": 2
   },
   "file_extension": ".py",
   "mimetype": "text/x-python",
   "name": "python",
   "nbconvert_exporter": "python",
   "pygments_lexer": "ipython2",
   "version": "2.7.11"
  }
 },
 "nbformat": 4,
 "nbformat_minor": 0
}
